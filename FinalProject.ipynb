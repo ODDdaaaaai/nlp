{
 "cells": [
  {
   "cell_type": "markdown",
   "metadata": {},
   "source": [
    "# <div style=\"direction:rtl\"> مشروع مقرر معالجة اللغات الطبيعية </div>\n",
    "## <div style=\"direction:rtl\"> استخراج المشاعر من النص </div>\n",
    "\n",
    "# <div style=\"direction:rtl\"> إشراف </div>\n",
    "<div style=\"direction:rtl\">\n",
    "    <font size=\"5\">&nbsp;&nbsp;&nbsp;&nbsp; د. ندى غنيم <br><br>&nbsp;&nbsp;&nbsp;&nbsp; م. زينة الدلال\n",
    "    </font>\n",
    "</div>\n",
    "\n",
    "# <div style=\"direction:rtl\"> إعداد الطلاب </div>\n",
    "<div style=\"direction:rtl\">\n",
    "    <font size=\"4\">&nbsp;&nbsp;&nbsp;&nbsp; حلا شبارة <br>&nbsp;&nbsp;&nbsp;&nbsp; عدي محمد <br>&nbsp;&nbsp;&nbsp;&nbsp; فادي الشعار\n",
    "    </font>\n",
    "</div>"
   ]
  },
  {
   "cell_type": "markdown",
   "metadata": {},
   "source": [
    "## <div style=\"direction:rtl\"> أولا: جمع الData </div>\n",
    "<div style=\"direction:rtl\">\n",
    "    <font size=\"5\">\n",
    "        تم جمع الData من Twitter و ذلك بالاعتماد على المكتبة GetOldTweets\n",
    "    </font>\n",
    "</div>"
   ]
  },
  {
   "cell_type": "code",
   "execution_count": null,
   "metadata": {},
   "outputs": [],
   "source": [
    "# coding=utf-8\n",
    "import got\n",
    "\n",
    "from model.Event import Event\n",
    "\n",
    "TOP_TWEETS = True\n",
    "EVENTS = [\n",
    "    Event(['فطر', 'عيد', 'سعيد', 'كل عام و أنتم بخير'], '2018-6-14', '2018-6-16'),\n",
    "    Event(['الأضحى', 'عيد', 'سعيد', 'كل عام و أنتم بخير'], '2018-8-20', '2018-8-24'),\n",
    "    Event(['المسيح', 'كريسمس', 'عيد مجيد', 'ميلاد', \"سعيد\"], '2018-12-24', '2018-12-25'),\n",
    "    Event(['رأس السنة', 'كل عام و أنتم بخير'], '2018-12-31', '2019-1-1'),\n",
    "    Event(['الفطر', 'عيد', 'سعيد', 'كل عام و أنتم بخير'], '2018-6-24', '2018-6-27'),\n",
    "    Event(['الأضحى', 'عيد', 'سعيد', 'كل عام و أنتم بخير'], '2018-8-31', '2018-9-4'),\n",
    "    Event(['المسيح', 'كريسمس', 'عيد مجيد', 'ميلاد', \"سعيد\"], '2017-12-24', '2017-12-25'),\n",
    "    Event(['رأس السنة', 'كل عام و أنتم بخير'], '2017-12-31', '2018-1-1')\n",
    "]\n",
    "NEAR = ['السعودية', 'مصر']\n",
    "MAX_TWEETS = 40\n",
    "WITHIN = '1000mi'\n",
    "\n",
    "tweets = []\n",
    "\n",
    "for near in NEAR:\n",
    "    for event in EVENTS:\n",
    "        for search_query in event.search_queries:\n",
    "            tweetCriteria = got.manager.TweetCriteria().setTopTweets(TOP_TWEETS).setSince(event.since).setUntil(\n",
    "                event.until).setNear(near).setWithin(WITHIN).setQuerySearch(search_query).setMaxTweets(MAX_TWEETS)\n",
    "            tweets += got.manager.TweetManager.getTweets(tweetCriteria)"
   ]
  }
 ],
 "metadata": {
  "kernelspec": {
   "display_name": "Python 2",
   "language": "python",
   "name": "python2"
  },
  "language_info": {
   "codemirror_mode": {
    "name": "ipython",
    "version": 2
   },
   "file_extension": ".py",
   "mimetype": "text/x-python",
   "name": "python",
   "nbconvert_exporter": "python",
   "pygments_lexer": "ipython2",
   "version": "2.7.15"
  }
 },
 "nbformat": 4,
 "nbformat_minor": 2
}
